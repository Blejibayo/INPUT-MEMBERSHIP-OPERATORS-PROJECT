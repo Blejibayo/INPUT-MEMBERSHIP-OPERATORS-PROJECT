{
 "cells": [
  {
   "cell_type": "code",
   "execution_count": null,
   "id": "f9add6be-db97-43c6-a307-dd829588152b",
   "metadata": {},
   "outputs": [],
   "source": [
    "#project on \n",
    "# put in username, year;through that generate the person current \"age\""
   ]
  },
  {
   "cell_type": "code",
   "execution_count": 1,
   "id": "4deae463-1a0c-4b5f-817a-7ed0134f3cd1",
   "metadata": {},
   "outputs": [
    {
     "name": "stdin",
     "output_type": "stream",
     "text": [
      "what is your username blejibayo\n",
      "what year were you born 1998\n"
     ]
    },
    {
     "name": "stdout",
     "output_type": "stream",
     "text": [
      "blejibayo you are 26 years old\n"
     ]
    }
   ],
   "source": [
    "username=str(input(\"what is your username\"))\n",
    "year=int(input(\"what year were you born\"))\n",
    "current_year=2024\n",
    "age=current_year-year\n",
    "print(f\"{username} you are {age} years old\")"
   ]
  },
  {
   "cell_type": "code",
   "execution_count": null,
   "id": "40eef911-0443-4055-a149-095d0b9cbc09",
   "metadata": {},
   "outputs": [],
   "source": []
  },
  {
   "cell_type": "code",
   "execution_count": 2,
   "id": "71708802-1878-4a91-a5cf-847237dd7560",
   "metadata": {},
   "outputs": [
    {
     "name": "stdout",
     "output_type": "stream",
     "text": [
      "Hello Welcome\n"
     ]
    },
    {
     "name": "stdin",
     "output_type": "stream",
     "text": [
      "what is your name blejibayo\n",
      "what program are you interested in? Data Science\n"
     ]
    },
    {
     "name": "stdout",
     "output_type": "stream",
     "text": [
      "Hello,blejibayo you are interested in Data Science,see you at the finish line\n"
     ]
    }
   ],
   "source": [
    "print(\"Hello Welcome\")\n",
    "name=input(\"what is your name\")\n",
    "program=input(\"what program are you interested in?\")\n",
    "print(f\"Hello,{name} you are interested in {program},see you at the finish line\")"
   ]
  },
  {
   "cell_type": "code",
   "execution_count": null,
   "id": "55478073-22b5-4ec0-871f-62c4784ad93c",
   "metadata": {},
   "outputs": [],
   "source": [
    "#Python is a case sensitive programming language (display it in a quote and assign a variable name)"
   ]
  },
  {
   "cell_type": "code",
   "execution_count": 3,
   "id": "d4424f7d-bf33-4f8e-a261-200bd8cb5a71",
   "metadata": {},
   "outputs": [],
   "source": [
    "message=\"python is a case sensitive programming language\""
   ]
  },
  {
   "cell_type": "code",
   "execution_count": 4,
   "id": "98b6d3e9-1dc5-4054-86fb-0e1f86e16736",
   "metadata": {},
   "outputs": [
    {
     "data": {
      "text/plain": [
       "True"
      ]
     },
     "execution_count": 4,
     "metadata": {},
     "output_type": "execute_result"
    }
   ],
   "source": [
    "\"language\" in message"
   ]
  },
  {
   "cell_type": "code",
   "execution_count": 5,
   "id": "70948c5c-4fbe-4c20-998e-ece38f7730ec",
   "metadata": {},
   "outputs": [
    {
     "data": {
      "text/plain": [
       "True"
      ]
     },
     "execution_count": 5,
     "metadata": {},
     "output_type": "execute_result"
    }
   ],
   "source": [
    "\"sensitive\" in message"
   ]
  },
  {
   "cell_type": "code",
   "execution_count": 6,
   "id": "e10c55d7-136f-48d3-99db-dc62649e5520",
   "metadata": {},
   "outputs": [
    {
     "data": {
      "text/plain": [
       "False"
      ]
     },
     "execution_count": 6,
     "metadata": {},
     "output_type": "execute_result"
    }
   ],
   "source": [
    "\"case\" not in message"
   ]
  },
  {
   "cell_type": "code",
   "execution_count": null,
   "id": "5263ab41-8dd7-48c3-a92b-2f74a5e765af",
   "metadata": {},
   "outputs": [],
   "source": []
  }
 ],
 "metadata": {
  "kernelspec": {
   "display_name": "Python 3 (ipykernel)",
   "language": "python",
   "name": "python3"
  },
  "language_info": {
   "codemirror_mode": {
    "name": "ipython",
    "version": 3
   },
   "file_extension": ".py",
   "mimetype": "text/x-python",
   "name": "python",
   "nbconvert_exporter": "python",
   "pygments_lexer": "ipython3",
   "version": "3.11.7"
  }
 },
 "nbformat": 4,
 "nbformat_minor": 5
}
